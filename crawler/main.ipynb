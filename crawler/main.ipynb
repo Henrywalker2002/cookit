{
 "cells": [
  {
   "cell_type": "code",
   "execution_count": 1,
   "metadata": {},
   "outputs": [],
   "source": [
    "import requests \n",
    "from dotenv import load_dotenv\n",
    "import os\n",
    "import json\n",
    "from bs4 import BeautifulSoup\n",
    "from IPython.display import clear_output\n",
    "import dill "
   ]
  },
  {
   "cell_type": "code",
   "execution_count": 23,
   "metadata": {},
   "outputs": [],
   "source": [
    "load_dotenv()\n",
    "\n",
    "url_get_food = \"https://api.spoonacular.com/recipes/random\"\n",
    "url_get_nutition = \"https://api.spoonacular.com/recipes/{id}/nutritionWidget.json\"\n",
    "url_post_food = \"http://127.0.0.1:8000/food/\"\n",
    "api_key = os.getenv(\"apiKey\")"
   ]
  },
  {
   "cell_type": "code",
   "execution_count": 15,
   "metadata": {},
   "outputs": [],
   "source": [
    "def get_random_food(api_key, number_of_recipes=100):\n",
    "    params = {\"apiKey\": api_key, \"number\": number_of_recipes}\n",
    "    response = requests.get(url_get_food, params=params)\n",
    "    return response.json()\n",
    "\n",
    "def get_nutritions(api_key, id):\n",
    "    params = {\"apiKey\": api_key}\n",
    "    response = requests.get(url_get_nutition.format(id=id), params=params)\n",
    "    return response.json()"
   ]
  },
  {
   "cell_type": "code",
   "execution_count": 53,
   "metadata": {},
   "outputs": [],
   "source": [
    "def create_recipe(name, description, image, nutrients, instructions, ingredients):\n",
    "    \n",
    "    header = {\"Content-Type\": \"application/json\"}\n",
    "    \n",
    "    data = {\n",
    "        \"name\": name,\n",
    "        \"description\": description,\n",
    "        \"image\": image,\n",
    "        \"nutrients\": nutrients,\n",
    "        \"instructions\": instructions,\n",
    "        \"ingredients\": ingredients\n",
    "    }\n",
    "    response = requests.post(url_post_food, headers=header, data=json.dumps(data))\n",
    "    if response.status_code == 201:\n",
    "        return response.json()\n",
    "    return response.json()"
   ]
  },
  {
   "cell_type": "code",
   "execution_count": 3,
   "metadata": {},
   "outputs": [],
   "source": [
    "def handle_nutrient(recipe_id):\n",
    "    nutrient = get_nutritions(api_key, recipe_id)\n",
    "    return nutrient.get(\"nutrients\")\n",
    "\n",
    "def handle_ingredients(extendedIngredients):\n",
    "    res = []\n",
    "    for ingredient in extendedIngredients:\n",
    "        res.append({ \"original\" : ingredient.get(\"original\")})\n",
    "    return res \n",
    "\n",
    "def handle_instructions(analyzedInstructions):\n",
    "    res = []\n",
    "    steps = analyzedInstructions.get(\"steps\")\n",
    "    if not steps:\n",
    "        return res \n",
    "    for instruction in steps:\n",
    "        res.append({\"number\": instruction.get(\"number\"), \"step\": instruction.get(\"step\")})\n",
    "    return res\n",
    "\n",
    "def handle_description(summary):\n",
    "    soup = BeautifulSoup(summary, 'html.parser')\n",
    "    return soup.get_text()"
   ]
  },
  {
   "cell_type": "code",
   "execution_count": 35,
   "metadata": {},
   "outputs": [],
   "source": [
    "data = get_random_food(api_key)"
   ]
  },
  {
   "cell_type": "code",
   "execution_count": 17,
   "metadata": {},
   "outputs": [],
   "source": [
    "def handle_recipe(recipe):\n",
    "    name = recipe.get(\"title\")\n",
    "    description = handle_description(recipe.get(\"summary\"))\n",
    "    image = recipe.get(\"image\")\n",
    "    nutrients = handle_nutrient(recipe.get(\"id\"))\n",
    "    instructions = handle_instructions(recipe.get(\"analyzedInstructions\")[0])\n",
    "    ingredients = handle_ingredients(recipe.get(\"extendedIngredients\"))\n",
    "    if name and description and image and nutrients and instructions and ingredients:\n",
    "        return create_recipe(name, description, image, nutrients, instructions, ingredients)\n",
    "    return None\n",
    "    "
   ]
  },
  {
   "cell_type": "code",
   "execution_count": 65,
   "metadata": {},
   "outputs": [
    {
     "name": "stdout",
     "output_type": "stream",
     "text": [
      "0.99\n"
     ]
    }
   ],
   "source": [
    "count = 0\n",
    "\n",
    "for recipe in data.get(\"recipes\"):\n",
    "    handle_recipe(recipe)\n",
    "    clear_output(wait=True)\n",
    "    print(count/len(data.get(\"recipes\")))\n",
    "    count += 1\n",
    "    "
   ]
  },
  {
   "cell_type": "code",
   "execution_count": 62,
   "metadata": {},
   "outputs": [
    {
     "name": "stdout",
     "output_type": "stream",
     "text": [
      "If you want to add more gluten free and lacto ovo vegetarian recipes to your recipe box, No-Bake Chocolate Peanut Butter Macaroons might be a recipe you should try. This recipe makes 1 servings with 2094 calories, 31g of protein, and 88g of fat each. For $2.27 per serving, this recipe covers 41% of your daily requirements of vitamins and minerals. It works best as a dessert, and is done in approximately 45 minutes. This recipe from Foodista has 2 fans. Head to the store and pick up milk, peanut butter to garnish, cocoa, and a few other things to make it today. All things considered, we decided this recipe deserves a spoonacular score of 73%. This score is solid. Similar recipes include Chocolate Peanut Butter Macaroons, Chocolate Peanut Butter Burgers (French Macaroons), and Peanut Butter Macaroons.\n"
     ]
    }
   ],
   "source": [
    "print(handle_description(recipe.get(\"summary\")))"
   ]
  },
  {
   "cell_type": "code",
   "execution_count": 2,
   "metadata": {},
   "outputs": [],
   "source": [
    "import requests\n",
    "import json\n",
    "url = \"http://127.0.0.1:8000/food/{id}/\"\n",
    "\n",
    "for i in range(5, 100):\n",
    "    response = requests.get(url.format(id=i))\n",
    "    if response.status_code == 200:\n",
    "        res_json = response.json()\n",
    "        calories = list(filter(lambda x : x.get(\"name\") == \"Calories\", res_json.get(\"nutrients\")))\n",
    "        if calories:\n",
    "            calories = int(calories[0].get(\"amount\"))\n",
    "            response2 = requests.patch(url.format(id=i), data=json.dumps({\"calories\": calories}), headers={\"Content-Type\": \"application/json\"})\n",
    "            if not response2.status_code == 200:\n",
    "                print(res_json)\n"
   ]
  },
  {
   "cell_type": "code",
   "execution_count": 47,
   "metadata": {},
   "outputs": [
    {
     "data": {
      "text/plain": [
       "{'detail': 'Unsupported media type \"text/plain\" in request.'}"
      ]
     },
     "execution_count": 47,
     "metadata": {},
     "output_type": "execute_result"
    }
   ],
   "source": [
    "create_recipe(\"test\", \"test\", \"test\", [], [], [])"
   ]
  },
  {
   "cell_type": "code",
   "execution_count": 67,
   "metadata": {},
   "outputs": [],
   "source": [
    "dill.dump_session(\"sesson.pkl\")"
   ]
  },
  {
   "cell_type": "code",
   "execution_count": null,
   "metadata": {},
   "outputs": [],
   "source": [
    "dill.load_session(\"sesson.pkl\")"
   ]
  }
 ],
 "metadata": {
  "kernelspec": {
   "display_name": "Python 3",
   "language": "python",
   "name": "python3"
  },
  "language_info": {
   "codemirror_mode": {
    "name": "ipython",
    "version": 3
   },
   "file_extension": ".py",
   "mimetype": "text/x-python",
   "name": "python",
   "nbconvert_exporter": "python",
   "pygments_lexer": "ipython3",
   "version": "3.10.9"
  }
 },
 "nbformat": 4,
 "nbformat_minor": 2
}
